{
 "cells": [
  {
   "cell_type": "code",
   "execution_count": 7,
   "metadata": {},
   "outputs": [],
   "source": [
    "import pandas as pd\n",
    "import numpy as np\n",
    "import json\n",
    "import os\n",
    "import uuid\n",
    "import elasticsearch\n",
    "from elasticsearch import Elasticsearch\n",
    "from elasticsearch import helpers\n",
    "\n",
    "from tqdm.auto import tqdm\n",
    "tqdm.pandas()"
   ]
  },
  {
   "cell_type": "code",
   "execution_count": 8,
   "metadata": {},
   "outputs": [
    {
     "data": {
      "text/html": [
       "<div>\n",
       "<style scoped>\n",
       "    .dataframe tbody tr th:only-of-type {\n",
       "        vertical-align: middle;\n",
       "    }\n",
       "\n",
       "    .dataframe tbody tr th {\n",
       "        vertical-align: top;\n",
       "    }\n",
       "\n",
       "    .dataframe thead th {\n",
       "        text-align: right;\n",
       "    }\n",
       "</style>\n",
       "<table border=\"1\" class=\"dataframe\">\n",
       "  <thead>\n",
       "    <tr style=\"text-align: right;\">\n",
       "      <th></th>\n",
       "      <th>BODY</th>\n",
       "      <th>CREATETIME</th>\n",
       "      <th>SUBJECT</th>\n",
       "      <th>CLAIMID</th>\n",
       "      <th>ID</th>\n",
       "      <th>createdate</th>\n",
       "      <th>CLAIMNUMBER</th>\n",
       "      <th>RPTLSDCC</th>\n",
       "    </tr>\n",
       "  </thead>\n",
       "  <tbody>\n",
       "    <tr>\n",
       "      <th>0</th>\n",
       "      <td>Sent PD estimates with photos to FT. There are...</td>\n",
       "      <td>2023-02-28 14:23:25</td>\n",
       "      <td>FT Review Request- 02</td>\n",
       "      <td>499826</td>\n",
       "      <td>11495896</td>\n",
       "      <td>2023-02-28</td>\n",
       "      <td>C00334246</td>\n",
       "      <td>9466.01</td>\n",
       "    </tr>\n",
       "  </tbody>\n",
       "</table>\n",
       "</div>"
      ],
      "text/plain": [
       "                                                BODY          CREATETIME  \\\n",
       "0  Sent PD estimates with photos to FT. There are... 2023-02-28 14:23:25   \n",
       "\n",
       "                 SUBJECT  CLAIMID        ID createdate CLAIMNUMBER  RPTLSDCC  \n",
       "0  FT Review Request- 02   499826  11495896 2023-02-28   C00334246   9466.01  "
      ]
     },
     "execution_count": 8,
     "metadata": {},
     "output_type": "execute_result"
    }
   ],
   "source": [
    "file_path = r\"\\\\filer\\actuarial\\Ana\\Andrea Request\\claimcenternotes\\calim_loss_SWR_2023_v2.xlsx\"\n",
    "df = pd.read_excel(file_path)\n",
    "df.head(1)"
   ]
  },
  {
   "cell_type": "code",
   "execution_count": 9,
   "metadata": {},
   "outputs": [],
   "source": [
    "from sentence_transformers import SentenceTransformer, util\n",
    "model = SentenceTransformer('all-MiniLM-L6-v2')\n"
   ]
  },
  {
   "cell_type": "code",
   "execution_count": 10,
   "metadata": {},
   "outputs": [],
   "source": [
    "sentences = df['BODY'].tolist()"
   ]
  },
  {
   "cell_type": "code",
   "execution_count": 11,
   "metadata": {},
   "outputs": [],
   "source": [
    "queries = [\n",
    "        \"Unlisted driver\" \n",
    "        \"Driver Not Listed\"  # Add more queries as needed\n",
    "]"
   ]
  },
  {
   "cell_type": "code",
   "execution_count": 12,
   "metadata": {},
   "outputs": [],
   "source": [
    "df['BODY'] = df['BODY'].astype(str)  # Convert everything to string (this will turn NaNs into 'nan' string)\n"
   ]
  },
  {
   "cell_type": "code",
   "execution_count": 13,
   "metadata": {},
   "outputs": [],
   "source": [
    "df_filtered = df[df['BODY'].apply(lambda x: not x.startswith('nan') and isinstance(x, str))]\n"
   ]
  },
  {
   "cell_type": "code",
   "execution_count": 14,
   "metadata": {},
   "outputs": [],
   "source": [
    "#df_filtered_500 = df_filtered.head(500)"
   ]
  },
  {
   "cell_type": "code",
   "execution_count": 15,
   "metadata": {},
   "outputs": [],
   "source": [
    "texts = df_filtered['BODY'].tolist()"
   ]
  },
  {
   "cell_type": "code",
   "execution_count": 16,
   "metadata": {},
   "outputs": [],
   "source": [
    "def encode_corpus(data_frame):\n",
    "    return model.encode(data_frame['BODY'].tolist(), convert_to_tensor=True)"
   ]
  },
  {
   "cell_type": "code",
   "execution_count": 17,
   "metadata": {},
   "outputs": [
    {
     "name": "stdout",
     "output_type": "stream",
     "text": [
      "Processing rows 0 to 500\n",
      "Processing rows 500 to 1000\n",
      "Processing rows 1000 to 1500\n",
      "Processing rows 1500 to 1506\n",
      "Processing complete. Results saved to scores_report_Ana_final.xlsx\n"
     ]
    }
   ],
   "source": [
    "# Function to process each chunk\n",
    "def process_chunk(chunk_df):\n",
    "    corpus_embeddings = encode_corpus(chunk_df)\n",
    "    \n",
    "    # Initialize an empty list to collect data\n",
    "    data = []\n",
    "    \n",
    "    # Initialize a dictionary to store top 3 scores for each CLAIMNUMBER\n",
    "    top3_scores_per_id = {}\n",
    "    \n",
    "    # Iterate over each query\n",
    "    for query in queries:\n",
    "        # Compute the embedding for the current query\n",
    "        query_embedding = model.encode(query, convert_to_tensor=True)\n",
    "\n",
    "        # Compute similarity scores for the current query against all corpus embeddings\n",
    "        similarity_scores = util.pytorch_cos_sim(query_embedding, corpus_embeddings)[0]\n",
    "\n",
    "        # Pair each similarity score with its corresponding CLAIMNUMBER, CLAIMID, SUBJECT, and BODY\n",
    "        scores_with_ids = list(zip(\n",
    "            chunk_df['CLAIMNUMBER'].tolist(), \n",
    "            chunk_df['CLAIMID'].tolist(), \n",
    "            chunk_df['SUBJECT'].tolist(), \n",
    "            chunk_df['BODY'].tolist(), \n",
    "            similarity_scores.tolist()\n",
    "        ))\n",
    "\n",
    "        # Populate the dictionary with lists of (score, CLAIMID, SUBJECT, BODY) tuples, grouped by CLAIMNUMBER\n",
    "        for claim_number, claim_id, subject, body, score in scores_with_ids:\n",
    "            if claim_number not in top3_scores_per_id:\n",
    "                top3_scores_per_id[claim_number] = []\n",
    "            top3_scores_per_id[claim_number].append((score, claim_id, subject, body))\n",
    "\n",
    "    # Sort and select top 3 scores for each CLAIMNUMBER\n",
    "    for claim_number, scores in top3_scores_per_id.items():\n",
    "        scores.sort(key=lambda x: -x[0])\n",
    "        top3_scores_per_id[claim_number] = scores[:3]\n",
    "\n",
    "        # Add to the data list\n",
    "        for score, claim_id, subject, body in top3_scores_per_id[claim_number]:\n",
    "            data.append({\n",
    "                'CLAIMNUMBER': claim_number,\n",
    "                'CLAIMID': claim_id,\n",
    "                'SUBJECT': subject,\n",
    "                'BODY': body,\n",
    "                'SCORE': score\n",
    "            })\n",
    "    \n",
    "    return pd.DataFrame(data)\n",
    "\n",
    "# Process the DataFrame in chunks of 500 rows\n",
    "chunk_size = 500\n",
    "num_chunks = (len(df) // chunk_size) + 1\n",
    "\n",
    "all_data = []\n",
    "\n",
    "for i in range(num_chunks):\n",
    "    start_idx = i * chunk_size\n",
    "    end_idx = min((i + 1) * chunk_size, len(df))\n",
    "    \n",
    "    print(f\"Processing rows {start_idx} to {end_idx}\")\n",
    "    chunk_df = df.iloc[start_idx:end_idx]\n",
    "    chunk_results = process_chunk(chunk_df)\n",
    "    all_data.append(chunk_results)\n",
    "\n",
    "# Concatenate all results into a single DataFrame\n",
    "final_df = pd.concat(all_data, ignore_index=True)\n",
    "\n",
    "# Save the results to an Excel file\n",
    "output_file = \"scores_report_Ana_final.xlsx\"\n",
    "final_df.to_excel(output_file, index=False, engine='openpyxl')\n",
    "\n",
    "print(\"Processing complete. Results saved to\", output_file)"
   ]
  }
 ],
 "metadata": {
  "kernelspec": {
   "display_name": "Python 3",
   "language": "python",
   "name": "python3"
  },
  "language_info": {
   "codemirror_mode": {
    "name": "ipython",
    "version": 3
   },
   "file_extension": ".py",
   "mimetype": "text/x-python",
   "name": "python",
   "nbconvert_exporter": "python",
   "pygments_lexer": "ipython3",
   "version": "3.12.0"
  }
 },
 "nbformat": 4,
 "nbformat_minor": 2
}
